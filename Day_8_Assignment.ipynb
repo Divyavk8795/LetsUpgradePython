{
 "cells": [
  {
   "cell_type": "code",
   "execution_count": 1,
   "metadata": {},
   "outputs": [
    {
     "name": "stdout",
     "output_type": "stream",
     "text": [
      "test (a = 1, b = 4, c = 'blah-blah' )\n",
      "test (a = 1, b = 3, c = 'blah-blah' )\n",
      "test (a = 1, b = 4, c = 'blah-blah', kwargs = {'d': 5} )\n",
      "test (a = 1, b = 2, c = 3, args = (4, 5), kwargs = {'d': 6, 'g': 12.9} )\n"
     ]
    }
   ],
   "source": [
    "def dumpArgs(func):\n",
    "    '''Decorator to print function call details - parameters names and effective values'''\n",
    "    def wrapper(*func_args, **func_kwargs):\n",
    "        arg_names = func.__code__.co_varnames[:func.__code__.co_argcount]\n",
    "        args = func_args[:len(arg_names)]\n",
    "        defaults = func.__defaults__ or ()\n",
    "        args = args + defaults[len(defaults) - (func.__code__.co_argcount - len(args)):]\n",
    "        params = list(zip(arg_names, args))\n",
    "        args = func_args[len(arg_names):]\n",
    "        if args: params.append(('args', args))\n",
    "        if func_kwargs: params.append(('kwargs', func_kwargs))\n",
    "        print(func.__name__ + ' (' + ', '.join('%s = %r' % p for p in params) + ' )')\n",
    "        return func(*func_args, **func_kwargs)\n",
    "    return wrapper  \n",
    "\n",
    "@dumpArgs\n",
    "def test(a, b = 4, c = 'blah-blah', *args, **kwargs):\n",
    "    pass\n",
    "\n",
    "test(1)\n",
    "test(1, 3)\n",
    "test(1, d = 5)\n",
    "test(1, 2, 3, 4, 5, d = 6, g = 12.9)"
   ]
  },
  {
   "cell_type": "code",
   "execution_count": 2,
   "metadata": {},
   "outputs": [],
   "source": [
    "# Decorator to find Factorial "
   ]
  },
  {
   "cell_type": "code",
   "execution_count": 3,
   "metadata": {},
   "outputs": [
    {
     "name": "stdout",
     "output_type": "stream",
     "text": [
      "3628800\n",
      "Total time taken in :  factorial 2.0000319480895996\n"
     ]
    }
   ],
   "source": [
    "# importing libraries \n",
    "import time \n",
    "import math \n",
    "\n",
    "# decorator to calculate duration \n",
    "# taken by any function. \n",
    "def calculate_time(func): \n",
    "\t\n",
    "\t# added arguments inside the inner1, \n",
    "\t# if function takes any arguments, \n",
    "\t# can be added like this. \n",
    "\tdef inner1(*args, **kwargs): \n",
    "\n",
    "\t\t# storing time before function execution \n",
    "\t\tbegin = time.time() \n",
    "\t\t\n",
    "\t\tfunc(*args, **kwargs) \n",
    "\n",
    "\t\t# storing time after function execution \n",
    "\t\tend = time.time() \n",
    "\t\tprint(\"Total time taken in : \", func.__name__, end - begin) \n",
    "\n",
    "\treturn inner1 \n",
    "\n",
    "\n",
    "\n",
    "# this can be added to any function present, \n",
    "# in this case to calculate a factorial \n",
    "@calculate_time\n",
    "def factorial(num): \n",
    "\n",
    "\t# sleep 2 seconds because it takes very less time \n",
    "\t# so that you can see the actual difference \n",
    "\ttime.sleep(2) \n",
    "\tprint(math.factorial(num)) \n",
    "\n",
    "# calling the function. \n",
    "factorial(10) \n"
   ]
  },
  {
   "cell_type": "code",
   "execution_count": 10,
   "metadata": {},
   "outputs": [
    {
     "name": "stdout",
     "output_type": "stream",
     "text": [
      "Error: can't find the file or read data\n"
     ]
    }
   ],
   "source": [
    "try:\n",
    "   fob = open(\"C:\\Divya\\Test.txt\", \"r\")\n",
    "   fob.write(\"It's my test file to verify exception handling in Python!!\")\n",
    "except IOError:\n",
    "   print(\"Error: can\\'t find the file or read data\")\n",
    "else:\n",
    "   print(\"Write operation is performed successfully on the file\")"
   ]
  },
  {
   "cell_type": "code",
   "execution_count": 11,
   "metadata": {},
   "outputs": [
    {
     "name": "stdout",
     "output_type": "stream",
     "text": [
      "finally block executed to close the file\n",
      "Error: can't find file or read data\n"
     ]
    }
   ],
   "source": [
    "try:\n",
    "    fob = open('C:\\Divya\\Test.txt', 'r')\n",
    "    try:\n",
    "        fob.write(\"It's my test file to verify try-finally in exception handling!!\")\n",
    "        print('try block executed')\n",
    "    finally:\n",
    "        fob.close()\n",
    "        print('finally block executed to close the file')\n",
    "except IOError:\n",
    "    print (\"Error: can\\'t find file or read data\")"
   ]
  },
  {
   "cell_type": "code",
   "execution_count": null,
   "metadata": {},
   "outputs": [],
   "source": []
  }
 ],
 "metadata": {
  "kernelspec": {
   "display_name": "Python 3",
   "language": "python",
   "name": "python3"
  },
  "language_info": {
   "codemirror_mode": {
    "name": "ipython",
    "version": 3
   },
   "file_extension": ".py",
   "mimetype": "text/x-python",
   "name": "python",
   "nbconvert_exporter": "python",
   "pygments_lexer": "ipython3",
   "version": "3.8.3"
  }
 },
 "nbformat": 4,
 "nbformat_minor": 4
}
