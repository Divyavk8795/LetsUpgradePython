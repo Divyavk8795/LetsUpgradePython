{
 "cells": [
  {
   "cell_type": "code",
   "execution_count": 13,
   "metadata": {},
   "outputs": [
    {
     "name": "stdout",
     "output_type": "stream",
     "text": [
      "Hello!!! Welcome to the Deposit & Withdrawal Machine\n"
     ]
    },
    {
     "name": "stdin",
     "output_type": "stream",
     "text": [
      "Enter amount to be Deposited:  1000\n"
     ]
    },
    {
     "name": "stdout",
     "output_type": "stream",
     "text": [
      "\n",
      " Amount Deposited: 1000.0\n"
     ]
    },
    {
     "name": "stdin",
     "output_type": "stream",
     "text": [
      "Enter amount to be Withdrawn:  1200\n"
     ]
    },
    {
     "name": "stdout",
     "output_type": "stream",
     "text": [
      "\n",
      " Insufficient balance \n",
      "\n",
      " Net Available Balance= 1000.0\n"
     ]
    }
   ],
   "source": [
    "# Python program to create Bankaccount class \n",
    "# with both a deposit() and a withdraw() function \n",
    "class Bank_Account: \n",
    "\tdef __init__(self): \n",
    "\t\tself.balance=0\n",
    "\t\tprint(\"Hello!!! Welcome to the Deposit & Withdrawal Machine\") \n",
    "\n",
    "\tdef deposit(self): \n",
    "\t\tamount=float(input(\"Enter amount to be Deposited: \")) \n",
    "\t\tself.balance += amount \n",
    "\t\tprint(\"\\n Amount Deposited:\",amount) \n",
    "\n",
    "\tdef withdraw(self): \n",
    "\t\tamount = float(input(\"Enter amount to be Withdrawn: \")) \n",
    "\t\tif self.balance>=amount: \n",
    "\t\t\tself.balance-=amount \n",
    "\t\t\tprint(\"\\n You Withdrew:\", amount) \n",
    "\t\telse: \n",
    "\t\t\tprint(\"\\n Insufficient balance \") \n",
    "\n",
    "\tdef display(self): \n",
    "\t\tprint(\"\\n Net Available Balance=\",self.balance) \n",
    "\n",
    "# Driver code \n",
    "\n",
    "# creating an object of class \n",
    "s = Bank_Account() \n",
    "\n",
    "# Calling functions with that class object \n",
    "\n",
    "s.deposit() \n",
    "s.withdraw() \n",
    "s.display() "
   ]
  },
  {
   "cell_type": "code",
   "execution_count": 14,
   "metadata": {},
   "outputs": [],
   "source": [
    "def Vol_Sa_Cone(radius, height):\n",
    "    # Calculate Length of a Slide (Slant)\n",
    "    l = math.sqrt(radius * radius + height * height)\n",
    "\n",
    "    # Calculate the Surface Area\n",
    "    SA = math.pi * radius * (radius + l)\n",
    "\n",
    "    # Calculate the Volume\n",
    "    Volume = (1.0/3) * math.pi * radius * radius * height\n",
    "\n",
    "    print(\" The Surface Area of a Cone = %.2f \" %SA)\n",
    "    print(\" The Volume of a Cone = %.2f\" %Volume)"
   ]
  },
  {
   "cell_type": "code",
   "execution_count": 15,
   "metadata": {},
   "outputs": [
    {
     "name": "stdout",
     "output_type": "stream",
     "text": [
      " The Surface Area of a Cone = 254.16 \n",
      " The Volume of a Cone = 261.80\n"
     ]
    }
   ],
   "source": [
    "Vol_Sa_Cone(5,10)"
   ]
  },
  {
   "cell_type": "code",
   "execution_count": null,
   "metadata": {},
   "outputs": [],
   "source": []
  }
 ],
 "metadata": {
  "kernelspec": {
   "display_name": "Python 3",
   "language": "python",
   "name": "python3"
  },
  "language_info": {
   "codemirror_mode": {
    "name": "ipython",
    "version": 3
   },
   "file_extension": ".py",
   "mimetype": "text/x-python",
   "name": "python",
   "nbconvert_exporter": "python",
   "pygments_lexer": "ipython3",
   "version": "3.8.3"
  }
 },
 "nbformat": 4,
 "nbformat_minor": 4
}
